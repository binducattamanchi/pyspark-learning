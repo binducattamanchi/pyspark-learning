{
 "cells": [
  {
   "cell_type": "code",
   "execution_count": 3,
   "id": "5209d228",
   "metadata": {},
   "outputs": [
    {
     "name": "stdout",
     "output_type": "stream",
     "text": [
      "+----------+------------+\n",
      "|student_id|student_name|\n",
      "+----------+------------+\n",
      "|         1|         Ram|\n",
      "|         2|         Sai|\n",
      "|         3|      Victor|\n",
      "|         4|      Anitha|\n",
      "+----------+------------+\n",
      "\n",
      "+----------+-------+-----+\n",
      "|student_id|subject|marks|\n",
      "+----------+-------+-----+\n",
      "|         1|   math|   90|\n",
      "|         2|   math|   80|\n",
      "|         3|   math|   40|\n",
      "|         4|   math|   20|\n",
      "|         1|    eng|   80|\n",
      "|         2|    eng|   60|\n",
      "|         4|    eng|   30|\n",
      "|         1|    sci|   90|\n",
      "|         2|    sci|   50|\n",
      "|         3|    sci|   50|\n",
      "|         4|    sci|   10|\n",
      "+----------+-------+-----+\n",
      "\n"
     ]
    }
   ],
   "source": [
    "import findspark\n",
    "findspark.init()\n",
    "\n",
    "from pyspark.sql import SparkSession\n",
    "\n",
    "spark = SparkSession.builder.appName('Student percentage').getOrCreate()\n",
    "\n",
    "studentData=[(1,\"Ram\"),(2,\"Sai\"),(3,\"Victor\"),(4,\"Anitha\")]\n",
    "studentSchema =[\"student_id\",\"student_name\"]\n",
    "\n",
    "marksData = [(1,\"math\",90),(2,\"math\",80),(3,\"math\",40),(4,\"math\",20),\n",
    "            (1,\"eng\",80),(2,\"eng\",60),(4,\"eng\",30),\n",
    "            (1,\"sci\",90),(2,\"sci\",50),(3,\"sci\",50),(4,\"sci\",10)]\n",
    "marksSchema = [\"student_id\",\"subject\",\"marks\"]\n",
    "\n",
    "studentDf=spark.createDataFrame(studentData,studentSchema)\n",
    "studentDf.show()\n",
    "markDf=spark.createDataFrame(marksData,marksSchema)\n",
    "markDf.show()\n"
   ]
  },
  {
   "cell_type": "code",
   "execution_count": 46,
   "id": "e1f6b940",
   "metadata": {},
   "outputs": [
    {
     "name": "stdout",
     "output_type": "stream",
     "text": [
      "+----------+------------+-------+-----+\n",
      "|student_id|student_name|subject|marks|\n",
      "+----------+------------+-------+-----+\n",
      "|         1|         Ram|   math|   90|\n",
      "|         1|         Ram|    eng|   80|\n",
      "|         1|         Ram|    sci|   90|\n",
      "|         2|         Sai|   math|   80|\n",
      "|         2|         Sai|    eng|   60|\n",
      "|         2|         Sai|    sci|   50|\n",
      "|         3|      Victor|   math|   40|\n",
      "|         3|      Victor|    sci|   50|\n",
      "|         4|      Anitha|   math|   20|\n",
      "|         4|      Anitha|    eng|   30|\n",
      "|         4|      Anitha|    sci|   10|\n",
      "+----------+------------+-------+-----+\n",
      "\n"
     ]
    }
   ],
   "source": [
    "# Find percentage of each student with Result\n",
    "\n",
    "from pyspark.sql.window import Window\n",
    "from pyspark.sql.functions import sum,col,count,when,round\n",
    "\n",
    "joinDf = studentDf.join(markDf,\"student_id\")\n",
    "joinDf.show()"
   ]
  },
  {
   "cell_type": "code",
   "execution_count": 47,
   "id": "915438f6",
   "metadata": {},
   "outputs": [
    {
     "name": "stdout",
     "output_type": "stream",
     "text": [
      "+----------+------------+----------+\n",
      "|student_id|student_name|percentage|\n",
      "+----------+------------+----------+\n",
      "|         1|         Ram|     86.67|\n",
      "|         2|         Sai|     63.33|\n",
      "|         3|      Victor|      45.0|\n",
      "|         4|      Anitha|      20.0|\n",
      "+----------+------------+----------+\n",
      "\n",
      "root\n",
      " |-- student_id: long (nullable = true)\n",
      " |-- student_name: string (nullable = true)\n",
      " |-- percentage: double (nullable = true)\n",
      "\n"
     ]
    }
   ],
   "source": [
    "wdf=Window.partitionBy(\"student_id\")\n",
    "sumDf=joinDf.select(\"student_id\",\"student_name\",\n",
    "                    round(sum(col(\"marks\")).over(wdf)/count(col(\"subject\")).over(wdf),2)\n",
    "                    .alias(\"percentage\")).dropDuplicates()\n",
    "sumDf.show()\n",
    "sumDf.printSchema()"
   ]
  },
  {
   "cell_type": "code",
   "execution_count": 48,
   "id": "16c2f852",
   "metadata": {},
   "outputs": [
    {
     "name": "stdout",
     "output_type": "stream",
     "text": [
      "+----------+------------+----------+------------+\n",
      "|student_id|student_name|percentage|      result|\n",
      "+----------+------------+----------+------------+\n",
      "|         1|         Ram|     86.67| Distinction|\n",
      "|         2|         Sai|     63.33| First Class|\n",
      "|         3|      Victor|      45.0|second Class|\n",
      "|         4|      Anitha|      20.0|        Fail|\n",
      "+----------+------------+----------+------------+\n",
      "\n"
     ]
    }
   ],
   "source": [
    "# Define the results\n",
    "\n",
    "sumDf.withColumn(\"result\",when(col(\"percentage\") >= 75,'Distinction') \\\n",
    "                 .when(col(\"percentage\").between(60,74),'First Class') \\\n",
    "                 .when(col(\"percentage\").between(35,59),'second Class').otherwise('Fail')).show()"
   ]
  },
  {
   "cell_type": "code",
   "execution_count": null,
   "id": "a35a00bb",
   "metadata": {},
   "outputs": [],
   "source": []
  }
 ],
 "metadata": {
  "kernelspec": {
   "display_name": "Python 3 (ipykernel)",
   "language": "python",
   "name": "python3"
  },
  "language_info": {
   "codemirror_mode": {
    "name": "ipython",
    "version": 3
   },
   "file_extension": ".py",
   "mimetype": "text/x-python",
   "name": "python",
   "nbconvert_exporter": "python",
   "pygments_lexer": "ipython3",
   "version": "3.10.9"
  }
 },
 "nbformat": 4,
 "nbformat_minor": 5
}
