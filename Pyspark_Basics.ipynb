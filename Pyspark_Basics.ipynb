{
 "cells": [
  {
   "cell_type": "code",
   "execution_count": 8,
   "id": "526ac1d1",
   "metadata": {},
   "outputs": [
    {
     "name": "stdout",
     "output_type": "stream",
     "text": [
      "EmptyRDD[26] at emptyRDD at NativeMethodAccessorImpl.java:0\n",
      "ParallelCollectionRDD[27] at readRDDFromFile at PythonRDD.scala:274\n",
      "root\n",
      " |-- firstname: string (nullable = true)\n",
      " |-- middlename: string (nullable = true)\n",
      " |-- lastname: string (nullable = true)\n",
      "\n",
      "root\n",
      " |-- firstname: string (nullable = true)\n",
      " |-- middlename: string (nullable = true)\n",
      " |-- lastname: string (nullable = true)\n",
      " |-- age: integer (nullable = true)\n",
      "\n",
      "+---------+----------+--------+---+\n",
      "|firstname|middlename|lastname|age|\n",
      "+---------+----------+--------+---+\n",
      "|      Ram|   Krishna|       M| 30|\n",
      "|     Sita|       Ram|       M| 23|\n",
      "+---------+----------+--------+---+\n",
      "\n"
     ]
    }
   ],
   "source": [
    "import findspark\n",
    "findspark.init()\n",
    "\n",
    "from pyspark.sql import SparkSession\n",
    "spark = SparkSession.builder.appName('RDD').getOrCreate()\n",
    "# Creates Empty RDD\n",
    "emptyRDD = spark.sparkContext.emptyRDD()\n",
    "print(emptyRDD)\n",
    "\n",
    "# Creates Empty RDD using parallelize\n",
    "rdd2 = spark.sparkContext.parallelize([])\n",
    "print(rdd2)\n",
    "## Create Empty DataFrame with Schema (StructType)\n",
    "# Create Schema\n",
    "from pyspark.sql.types import StructType,StructField,StringType,IntegerType\n",
    "spark = SparkSession.builder.appName('DataFrame').getOrCreate()\n",
    "schema1 = StructType([\n",
    "StructField('firstname', StringType(), True),\n",
    "StructField('middlename', StringType(), True),\n",
    "StructField('lastname', StringType(), True),\n",
    "StructField('age',IntegerType(),True)\n",
    "])\n",
    "\n",
    "# Create empty DataFrame from empty RDD\n",
    "df = spark.createDataFrame(emptyRDD, schema)\n",
    "df.printSchema()\n",
    "\n",
    "\n",
    "# Inserting sample data\n",
    "input1 = [('Ram','Krishna','M',30),\n",
    "       ('Sita','Ram','M',23)]\n",
    "df1 = spark.createDataFrame(data=input1, schema=schema1)\n",
    "df1.printSchema()\n",
    "df1.show()\n"
   ]
  },
  {
   "cell_type": "code",
   "execution_count": 9,
   "id": "a72908d4",
   "metadata": {},
   "outputs": [
    {
     "name": "stdout",
     "output_type": "stream",
     "text": [
      "root\n",
      " |-- firstname: string (nullable = true)\n",
      " |-- middlename: string (nullable = true)\n",
      " |-- lastname: string (nullable = true)\n",
      "\n"
     ]
    }
   ],
   "source": [
    "# Convert empty RDD to DataFrame\n",
    "dfe = emptyRDD.toDF(schema)\n",
    "dfe.printSchema()"
   ]
  },
  {
   "cell_type": "code",
   "execution_count": 11,
   "id": "822107c9",
   "metadata": {},
   "outputs": [
    {
     "name": "stdout",
     "output_type": "stream",
     "text": [
      "root\n",
      " |-- firstname: string (nullable = true)\n",
      " |-- middlename: string (nullable = true)\n",
      " |-- lastname: string (nullable = true)\n",
      "\n",
      "root\n",
      "\n"
     ]
    }
   ],
   "source": [
    "# Create empty DataFrame directly\n",
    "df2 = spark.createDataFrame([], schema)\n",
    "df2.printSchema()\n",
    "\n",
    "\n",
    "# Create empty DataFrame with no schema (no columns)\n",
    "df3 = spark.createDataFrame([], StructType([]))\n",
    "df3.printSchema()\n"
   ]
  },
  {
   "cell_type": "code",
   "execution_count": 12,
   "id": "e73d70d4",
   "metadata": {},
   "outputs": [],
   "source": [
    "#create dataframe using RDD\n",
    "dept = [(\"Finance\", 10),(\"Marketing\", 20), (\"Sales\", 30), (\"IT\", 40)]\n",
    "rdd = spark.sparkContext.parallelize(dept)\n",
    "df = rdd.toDF()\n",
    "df.printSchema()\n",
    "df.show(truncate = False)"
   ]
  },
  {
   "cell_type": "code",
   "execution_count": 15,
   "id": "dab1cc9f",
   "metadata": {},
   "outputs": [
    {
     "name": "stdout",
     "output_type": "stream",
     "text": [
      "+---------+-------+\n",
      "|dept_name|dept_id|\n",
      "+---------+-------+\n",
      "|Finance  |10     |\n",
      "|Marketing|20     |\n",
      "|Sales    |30     |\n",
      "|IT       |40     |\n",
      "+---------+-------+\n",
      "\n"
     ]
    }
   ],
   "source": [
    "#adding column names to data\n",
    "deptColumns = [\"dept_name\", \"dept_id\"]\n",
    "df2 = rdd.toDF(deptColumns)\n",
    "df2.show(truncate = False)"
   ]
  },
  {
   "cell_type": "code",
   "execution_count": 16,
   "id": "8e5c9521",
   "metadata": {},
   "outputs": [
    {
     "name": "stdout",
     "output_type": "stream",
     "text": [
      "root\n",
      " |-- first_name: string (nullable = true)\n",
      " |-- middle_name: string (nullable = true)\n",
      " |-- last_name: string (nullable = true)\n",
      " |-- dob: string (nullable = true)\n",
      " |-- gender: string (nullable = true)\n",
      " |-- salary: long (nullable = true)\n",
      "\n",
      "+----------+-----------+---------+-----+------+------+\n",
      "|first_name|middle_name|last_name|  dob|gender|salary|\n",
      "+----------+-----------+---------+-----+------+------+\n",
      "|     James|           |    Smith|36636|     M| 60000|\n",
      "|   Michael|       Rose|         |40288|     M| 70000|\n",
      "|    Robert|           | Williams|42114|      |400000|\n",
      "|       Jen|       Mary|    Brown|     |     F|     0|\n",
      "+----------+-----------+---------+-----+------+------+\n",
      "\n"
     ]
    }
   ],
   "source": [
    "# Convert DataFrames to Pandas\n",
    "data = [(\"James\", \"\", \"Smith\", \"36636\", \"M\", 60000),\n",
    "(\"Michael\", \"Rose\", \"\", \"40288\", \"M\", 70000),\n",
    "(\"Robert\",\"\", \"Williams\", \"42114\", \"\", 400000),\n",
    "(\"Jen\", \"Mary\", \"Brown\", \"\", \"F\", 0)]\n",
    "columns = [\"first_name\", \"middle_name\", \"last_name\", \"dob\", \"gender\", \"salary\"]\n",
    "df=spark.createDataFrame(data=data,schema=columns)\n",
    "df.printSchema()\n",
    "df.show()"
   ]
  },
  {
   "cell_type": "code",
   "execution_count": 18,
   "id": "0483d325",
   "metadata": {},
   "outputs": [
    {
     "name": "stdout",
     "output_type": "stream",
     "text": [
      "  first_name middle_name last_name    dob gender  salary\n",
      "0      James                 Smith  36636      M   60000\n",
      "1    Michael        Rose            40288      M   70000\n",
      "2     Robert              Williams  42114         400000\n",
      "3        Jen        Mary     Brown             F       0\n"
     ]
    }
   ],
   "source": [
    "conv = df.toPandas()\n",
    "print(conv)"
   ]
  },
  {
   "cell_type": "code",
   "execution_count": 19,
   "id": "74fe4c5c",
   "metadata": {},
   "outputs": [
    {
     "name": "stdout",
     "output_type": "stream",
     "text": [
      "root\n",
      " |-- name: struct (nullable = true)\n",
      " |    |-- firstname: string (nullable = true)\n",
      " |    |-- middlename: string (nullable = true)\n",
      " |    |-- lastname: string (nullable = true)\n",
      " |-- dob: string (nullable = true)\n",
      " |-- gender: string (nullable = true)\n",
      " |-- salary: string (nullable = true)\n",
      "\n",
      "                   name    dob gender salary\n",
      "0      (James, , Smith)  36636      M   3000\n",
      "1     (Michael, Rose, )  40288      M   4000\n",
      "2  (Robert, , Williams)  42114      M   4000\n",
      "3  (Marie, Anne, Jones)  39192      F   4000\n",
      "4    (Jen, Mary, Brown)             F     -1\n"
     ]
    }
   ],
   "source": [
    "# Converting Struct Schema to Pandas\n",
    "\n",
    "dataStruct = [((\"James\", \"\", \"Smith\"), \"36636\", \"M\", \"3000\"), \\\n",
    "((\"Michael\", \"Rose\", \"\"), \"40288\", \"M\", \"4000\"), \\\n",
    "((\"Robert\", \"\", \"Williams\"), \"42114\", \"M\", \"4000\"), \\\n",
    "((\"Marie\", \"Anne\", \"Jones\"), \"39192\", \"F\", \"4000\"), \\\n",
    "((\"Jen\", \"Mary\", \"Brown\"), \"\", \"F\", \"-1\") \\\n",
    "]\n",
    "schemaStruct = StructType([\n",
    "StructField('name', StructType([\n",
    "StructField('firstname', StringType(), True),\n",
    "StructField('middlename', StringType(), True),\n",
    "StructField('lastname', StringType(), True)\n",
    "])),\n",
    "StructField('dob', StringType(), True),\n",
    "StructField('gender', StringType(), True),\n",
    "StructField('salary', StringType(), True)\n",
    "])\n",
    "df = spark.createDataFrame(data = dataStruct, schema = schemaStruct)\n",
    "df.printSchema()\n",
    "pandasDF2 = df.toPandas()\n",
    "print(pandasDF2)"
   ]
  }
 ],
 "metadata": {
  "kernelspec": {
   "display_name": "Python 3 (ipykernel)",
   "language": "python",
   "name": "python3"
  },
  "language_info": {
   "codemirror_mode": {
    "name": "ipython",
    "version": 3
   },
   "file_extension": ".py",
   "mimetype": "text/x-python",
   "name": "python",
   "nbconvert_exporter": "python",
   "pygments_lexer": "ipython3",
   "version": "3.10.9"
  }
 },
 "nbformat": 4,
 "nbformat_minor": 5
}
