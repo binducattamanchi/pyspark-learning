{
 "cells": [
  {
   "cell_type": "code",
   "execution_count": 27,
   "id": "67f8b80d",
   "metadata": {},
   "outputs": [
    {
     "name": "stdout",
     "output_type": "stream",
     "text": [
      "root\n",
      " |-- firstname: string (nullable = true)\n",
      " |-- state: string (nullable = true)\n",
      " |-- lastname: string (nullable = true)\n",
      " |-- age: long (nullable = true)\n",
      "\n",
      "+---------+-----+--------+----+\n",
      "|firstname|state|lastname| age|\n",
      "+---------+-----+--------+----+\n",
      "|         |   CA|        |null|\n",
      "|    Julia|     |       R|  32|\n",
      "|   Robert|     |       C|  33|\n",
      "|         |   NJ|        |null|\n",
      "+---------+-----+--------+----+\n",
      "\n"
     ]
    }
   ],
   "source": [
    "import findspark\n",
    "findspark.init()\n",
    "\n",
    "# REplace empty values with Null\n",
    "from pyspark.sql import SparkSession\n",
    "spark = SparkSession.builder.appName('Empty Values').getOrCreate()\n",
    "data = [(\"\",\"CA\",\"\",None), (\"Julia\",\"\",\"R\",32),(\"Robert\",\"\",\"C\",33),(\"\",\"NJ\",\"\",None)]\n",
    "df =spark.createDataFrame(data,[\"firstname\",\"state\",\"lastname\",\"age\"])\n",
    "df.printSchema()\n",
    "df.show()\n"
   ]
  },
  {
   "cell_type": "code",
   "execution_count": 28,
   "id": "c0ec1c8b",
   "metadata": {},
   "outputs": [
    {
     "name": "stdout",
     "output_type": "stream",
     "text": [
      "+---------+-----+--------+----+\n",
      "|firstname|state|lastname| age|\n",
      "+---------+-----+--------+----+\n",
      "|     null|   CA|        |null|\n",
      "|    Julia|     |       R|  32|\n",
      "|   Robert|     |       C|  33|\n",
      "|     null|   NJ|        |null|\n",
      "+---------+-----+--------+----+\n",
      "\n"
     ]
    }
   ],
   "source": [
    "#Replace empty string with None value\n",
    "from pyspark.sql.functions import col,when\n",
    "df.withColumn(\"firstname\",when(col(\"firstname\")==\"\", None,).otherwise(col(\"firstname\"))).show()\n"
   ]
  },
  {
   "cell_type": "code",
   "execution_count": 29,
   "id": "c529507a",
   "metadata": {},
   "outputs": [
    {
     "name": "stdout",
     "output_type": "stream",
     "text": [
      "+---------+-----+--------+----+\n",
      "|firstname|state|lastname| age|\n",
      "+---------+-----+--------+----+\n",
      "|     null|   CA|    null|null|\n",
      "|    Julia| null|       R|  32|\n",
      "|   Robert| null|       C|  33|\n",
      "|     null|   NJ|    null|null|\n",
      "+---------+-----+--------+----+\n",
      "\n"
     ]
    }
   ],
   "source": [
    "#Replace empty string with None for all columns\n",
    "df2=df.select([when(col(c)==\"\",None).otherwise(col(c)).alias(c) for c in df.columns])\n",
    "df2.show()"
   ]
  },
  {
   "cell_type": "code",
   "execution_count": 30,
   "id": "35ef726b",
   "metadata": {},
   "outputs": [
    {
     "name": "stdout",
     "output_type": "stream",
     "text": [
      "+---------+--------+\n",
      "|firstname|lastname|\n",
      "+---------+--------+\n",
      "|     null|    null|\n",
      "|    Julia|       R|\n",
      "|   Robert|       C|\n",
      "|     null|    null|\n",
      "+---------+--------+\n",
      "\n"
     ]
    }
   ],
   "source": [
    "#Replace empty string with None on selected columns\n",
    "replaceCols=[\"firstname\",\"lastname\"]\n",
    "df3=df.select([when(col(c)==\"\",None).otherwise(col(c)).alias(c) for c in replaceCols])\n",
    "df3.show()"
   ]
  },
  {
   "cell_type": "code",
   "execution_count": 31,
   "id": "fcc80db4",
   "metadata": {},
   "outputs": [
    {
     "name": "stdout",
     "output_type": "stream",
     "text": [
      "+---------+-----+--------+---+\n",
      "|firstname|state|lastname|age|\n",
      "+---------+-----+--------+---+\n",
      "|     null|   CA|    null|  0|\n",
      "|    Julia| null|       R| 32|\n",
      "|   Robert| null|       C| 33|\n",
      "|     null|   NJ|    null|  0|\n",
      "+---------+-----+--------+---+\n",
      "\n",
      "+---------+-----+--------+---+\n",
      "|firstname|state|lastname|age|\n",
      "+---------+-----+--------+---+\n",
      "|     null|   CA|    null|  0|\n",
      "|    Julia| null|       R| 32|\n",
      "|   Robert| null|       C| 33|\n",
      "|     null|   NJ|    null|  0|\n",
      "+---------+-----+--------+---+\n",
      "\n",
      "+---------+-----+--------+---+\n",
      "|firstname|state|lastname|age|\n",
      "+---------+-----+--------+---+\n",
      "|     null|   CA|    null|  0|\n",
      "|    Julia| null|       R| 32|\n",
      "|   Robert| null|       C| 33|\n",
      "|     null|   NJ|    null|  0|\n",
      "+---------+-----+--------+---+\n",
      "\n",
      "+---------+-----+--------+---+\n",
      "|firstname|state|lastname|age|\n",
      "+---------+-----+--------+---+\n",
      "|     null|   CA|    null|  0|\n",
      "|    Julia| null|       R| 32|\n",
      "|   Robert| null|       C| 33|\n",
      "|     null|   NJ|    null|  0|\n",
      "+---------+-----+--------+---+\n",
      "\n"
     ]
    }
   ],
   "source": [
    "\n",
    "#PySpark provides DataFrame.fillna() and DataFrameNaFunctions.fill() \n",
    "#to replace NULL/None values. These two are aliases of each other and returns the same results.\n",
    "\n",
    "df2.fillna(value=0).show()\n",
    "df2.fillna(value=0,subset=[\"age\"]).show()\n",
    "df2.na.fill(value=0).show()\n",
    "df2.na.fill(value=0,subset=[\"age\"]).show()\n",
    "\n"
   ]
  },
  {
   "cell_type": "code",
   "execution_count": 32,
   "id": "1fa1ed6e",
   "metadata": {},
   "outputs": [
    {
     "name": "stdout",
     "output_type": "stream",
     "text": [
      "+---------+-----+--------+----+\n",
      "|firstname|state|lastname| age|\n",
      "+---------+-----+--------+----+\n",
      "|         |   CA|        |null|\n",
      "|    Julia|     |       R|  32|\n",
      "|   Robert|     |       C|  33|\n",
      "|         |   NJ|        |null|\n",
      "+---------+-----+--------+----+\n",
      "\n",
      "+---------+-----+--------+----+\n",
      "|firstname|state|lastname| age|\n",
      "+---------+-----+--------+----+\n",
      "|         |   CA|        |null|\n",
      "|    Julia|     |       R|  32|\n",
      "|   Robert|     |       C|  33|\n",
      "|         |   NJ|        |null|\n",
      "+---------+-----+--------+----+\n",
      "\n"
     ]
    }
   ],
   "source": [
    "\n",
    "df2.fillna(value=\"\").show()\n",
    "df2.na.fill(value=\"\").show()\n"
   ]
  },
  {
   "cell_type": "code",
   "execution_count": 33,
   "id": "cd004c20",
   "metadata": {},
   "outputs": [
    {
     "name": "stdout",
     "output_type": "stream",
     "text": [
      "+---------+-----+--------+----+\n",
      "|firstname|state|lastname| age|\n",
      "+---------+-----+--------+----+\n",
      "|       na|   CA|      na|null|\n",
      "|    Julia| null|       R|  32|\n",
      "|   Robert| null|       C|  33|\n",
      "|       na|   NJ|      na|null|\n",
      "+---------+-----+--------+----+\n",
      "\n",
      "+---------+-----+--------+----+\n",
      "|firstname|state|lastname| age|\n",
      "+---------+-----+--------+----+\n",
      "|       na|   CA|      na|null|\n",
      "|    Julia| null|       R|  32|\n",
      "|   Robert| null|       C|  33|\n",
      "|       na|   NJ|      na|null|\n",
      "+---------+-----+--------+----+\n",
      "\n"
     ]
    }
   ],
   "source": [
    "\n",
    "df2.fillna(\"na\",[\"lastname\"]).fillna(\"na\",[\"firstname\"]).show()\n",
    "\n",
    "df2.fillna({\"lastname\": \"na\", \"firstname\": \"na\"}) .show()\n"
   ]
  },
  {
   "cell_type": "code",
   "execution_count": 34,
   "id": "c31638a5",
   "metadata": {},
   "outputs": [
    {
     "name": "stdout",
     "output_type": "stream",
     "text": [
      "+---------+-----+--------+----+\n",
      "|firstname|state|lastname| age|\n",
      "+---------+-----+--------+----+\n",
      "|         |   CA| unknown|null|\n",
      "|    Julia| null|       R|  32|\n",
      "|   Robert| null|       C|  33|\n",
      "|         |   NJ| unknown|null|\n",
      "+---------+-----+--------+----+\n",
      "\n",
      "+---------+-----+--------+----+\n",
      "|firstname|state|lastname| age|\n",
      "+---------+-----+--------+----+\n",
      "|         |   CA| unknown|null|\n",
      "|    Julia| null|       R|  32|\n",
      "|   Robert| null|       C|  33|\n",
      "|         |   NJ| unknown|null|\n",
      "+---------+-----+--------+----+\n",
      "\n"
     ]
    }
   ],
   "source": [
    "\n",
    "df2.na.fill(\"unknown\",[\"lastname\"]) \\\n",
    "    .na.fill(\"\",[\"firstname\"]).show()\n",
    "\n",
    "df2.na.fill({\"lastname\": \"unknown\", \"firstname\": \"\"}) \\\n",
    "    .show()"
   ]
  },
  {
   "cell_type": "code",
   "execution_count": 38,
   "id": "6f8db014",
   "metadata": {},
   "outputs": [
    {
     "name": "stdout",
     "output_type": "stream",
     "text": [
      "+------------+-----+--------+----+\n",
      "|   firstname|state|lastname| age|\n",
      "+------------+-----+--------+----+\n",
      "|Empty String|   CA|        |null|\n",
      "|       Julia|     |       R|  32|\n",
      "|      Robert|     |       C|  33|\n",
      "|Empty String|   NJ|        |null|\n",
      "+------------+-----+--------+----+\n",
      "\n",
      "+------------+------------+------------+----+\n",
      "|   firstname|       state|    lastname| age|\n",
      "+------------+------------+------------+----+\n",
      "|Empty String|          CA|Empty String|null|\n",
      "|       Julia|Empty String|           R|  32|\n",
      "|      Robert|Empty String|           C|  33|\n",
      "|Empty String|          NJ|Empty String|null|\n",
      "+------------+------------+------------+----+\n",
      "\n",
      "+------------+-----+--------+----+\n",
      "|   firstname|state|lastname| age|\n",
      "+------------+-----+--------+----+\n",
      "|Empty String|   CA|        |null|\n",
      "|       Julia|     |       R|  32|\n",
      "|      Robert|     |       C|  33|\n",
      "|Empty String|   NJ|        |null|\n",
      "+------------+-----+--------+----+\n",
      "\n"
     ]
    }
   ],
   "source": [
    "#fillna is used to replace null values and you have '' (empty string) in the firstname column; \n",
    "#To replace a general value you can use na.replace method:\n",
    "df.na.replace('', 'Empty String', 'firstname').show()\n",
    "df.na.replace({'': 'Empty String'}, 'firstname').show()\n",
    "df.replace('', 'Empty String', 'firstname').show()\n"
   ]
  },
  {
   "cell_type": "code",
   "execution_count": 40,
   "id": "33808312",
   "metadata": {},
   "outputs": [
    {
     "name": "stdout",
     "output_type": "stream",
     "text": [
      "+------+-----+\n",
      "|  name|state|\n",
      "+------+-----+\n",
      "|      |   CA|\n",
      "| Julia|     |\n",
      "|Robert|     |\n",
      "|      |   NJ|\n",
      "|   Ram|   TX|\n",
      "|      |     |\n",
      "+------+-----+\n",
      "\n",
      "+------+-----+\n",
      "|  name|state|\n",
      "+------+-----+\n",
      "|  null|   CA|\n",
      "| Julia| null|\n",
      "|Robert| null|\n",
      "|  null|   NJ|\n",
      "|   Ram|   TX|\n",
      "|  null| null|\n",
      "+------+-----+\n",
      "\n",
      "+----+-----+\n",
      "|name|state|\n",
      "+----+-----+\n",
      "| Ram|   TX|\n",
      "+----+-----+\n",
      "\n",
      "+----+-----+\n",
      "|name|state|\n",
      "+----+-----+\n",
      "| Ram|   TX|\n",
      "+----+-----+\n",
      "\n"
     ]
    }
   ],
   "source": [
    "# Drop null values\n",
    "from pyspark.sql import SparkSession\n",
    "spark = SparkSession.builder.appName('Handling Null Values').getOrCreate()\n",
    "data = [(\"\",\"CA\"), (\"Julia\",\"\"),(\"Robert\",\"\"),(\"\",\"NJ\"),(\"Ram\",\"TX\"),(\"\",\"\")]\n",
    "df =spark.createDataFrame(data,[\"name\",\"state\"])\n",
    "df.show()\n",
    "df2=df.select([when(col(c)==\"\",None).otherwise(col(c)).alias(c) for c in df.columns])\n",
    "df2.show()\n",
    "# drop all null columns using drop()\n",
    "df2.na.drop().show()\n",
    "df2.na.drop(\"any\").show()"
   ]
  },
  {
   "cell_type": "code",
   "execution_count": 41,
   "id": "5b5f1a54",
   "metadata": {},
   "outputs": [
    {
     "name": "stdout",
     "output_type": "stream",
     "text": [
      "+------+-----+\n",
      "|  name|state|\n",
      "+------+-----+\n",
      "|  null|   CA|\n",
      "| Julia| null|\n",
      "|Robert| null|\n",
      "|  null|   NJ|\n",
      "|   Ram|   TX|\n",
      "+------+-----+\n",
      "\n"
     ]
    }
   ],
   "source": [
    "# Drop rows when all rows are null\n",
    "\n",
    "df2.na.drop(\"all\").show()"
   ]
  },
  {
   "cell_type": "code",
   "execution_count": 43,
   "id": "1c488180",
   "metadata": {},
   "outputs": [
    {
     "name": "stdout",
     "output_type": "stream",
     "text": [
      "+------+-----+\n",
      "|  name|state|\n",
      "+------+-----+\n",
      "| Julia| null|\n",
      "|Robert| null|\n",
      "|   Ram|   TX|\n",
      "+------+-----+\n",
      "\n"
     ]
    }
   ],
   "source": [
    "#drop those rows that has null values in specific columns\n",
    "df2.na.drop(subset=[\"name\"]).show()"
   ]
  },
  {
   "cell_type": "code",
   "execution_count": 44,
   "id": "3b251dd2",
   "metadata": {},
   "outputs": [
    {
     "name": "stdout",
     "output_type": "stream",
     "text": [
      "+----+-----+\n",
      "|name|state|\n",
      "+----+-----+\n",
      "| Ram|   TX|\n",
      "+----+-----+\n",
      "\n"
     ]
    }
   ],
   "source": [
    "# Similar to na.drop\n",
    "df2.dropna().show()"
   ]
  },
  {
   "cell_type": "code",
   "execution_count": 45,
   "id": "10cf346a",
   "metadata": {},
   "outputs": [
    {
     "name": "stdout",
     "output_type": "stream",
     "text": [
      "+-----+-----+------+\n",
      "| name|state|gender|\n",
      "+-----+-----+------+\n",
      "|James| null|     M|\n",
      "| Anna|   NY|     F|\n",
      "|Julia| null|  null|\n",
      "+-----+-----+------+\n",
      "\n",
      "+-----+-----+------+\n",
      "| name|state|gender|\n",
      "+-----+-----+------+\n",
      "|James| null|     M|\n",
      "|Julia| null|  null|\n",
      "+-----+-----+------+\n",
      "\n",
      "+-----+-----+------+\n",
      "| name|state|gender|\n",
      "+-----+-----+------+\n",
      "|James| null|     M|\n",
      "|Julia| null|  null|\n",
      "+-----+-----+------+\n",
      "\n"
     ]
    }
   ],
   "source": [
    "# To select rows that have a null value on a selected column use filter() with isNULL()\n",
    "# Create DataFrame\n",
    "data = [\n",
    "    (\"James\",None,\"M\"),\n",
    "    (\"Anna\",\"NY\",\"F\"),\n",
    "    (\"Julia\",None,None)\n",
    "  ]\n",
    "\n",
    "columns = [\"name\",\"state\",\"gender\"]\n",
    "df = spark.createDataFrame(data,columns)\n",
    "df.show()\n",
    "\n",
    "# Using isNull()\n",
    "df.filter(\"state is NULL\").show()\n",
    "df.filter(df.state.isNull()).show()\n"
   ]
  },
  {
   "cell_type": "code",
   "execution_count": 46,
   "id": "2958f41f",
   "metadata": {},
   "outputs": [
    {
     "name": "stdout",
     "output_type": "stream",
     "text": [
      "+-----+-----+------+\n",
      "| name|state|gender|\n",
      "+-----+-----+------+\n",
      "|James| null|     M|\n",
      "|Julia| null|  null|\n",
      "+-----+-----+------+\n",
      "\n",
      "+-----+-----+------+\n",
      "| name|state|gender|\n",
      "+-----+-----+------+\n",
      "|Julia| null|  null|\n",
      "+-----+-----+------+\n",
      "\n",
      "+-----+-----+------+\n",
      "| name|state|gender|\n",
      "+-----+-----+------+\n",
      "|Julia| null|  null|\n",
      "+-----+-----+------+\n",
      "\n"
     ]
    }
   ],
   "source": [
    "\n",
    "from pyspark.sql.functions import col\n",
    "df.filter(col(\"state\").isNull()).show()\n",
    "\n",
    "df.filter(\"state IS NULL AND gender IS NULL\").show()\n",
    "df.filter(df.state.isNull() & df.gender.isNull()).show()\n"
   ]
  },
  {
   "cell_type": "code",
   "execution_count": 47,
   "id": "f29d1e32",
   "metadata": {},
   "outputs": [
    {
     "name": "stdout",
     "output_type": "stream",
     "text": [
      "+---------------+\n",
      "|(state IS NULL)|\n",
      "+---------------+\n",
      "|           true|\n",
      "|          false|\n",
      "|           true|\n",
      "+---------------+\n",
      "\n",
      "+----+-----+------+\n",
      "|name|state|gender|\n",
      "+----+-----+------+\n",
      "|Anna|   NY|     F|\n",
      "+----+-----+------+\n",
      "\n",
      "+----+-----+------+\n",
      "|name|state|gender|\n",
      "+----+-----+------+\n",
      "|Anna|   NY|     F|\n",
      "+----+-----+------+\n",
      "\n",
      "+----+-----+------+\n",
      "|name|state|gender|\n",
      "+----+-----+------+\n",
      "|Anna|   NY|     F|\n",
      "+----+-----+------+\n",
      "\n",
      "+----+-----+------+\n",
      "|name|state|gender|\n",
      "+----+-----+------+\n",
      "|Anna|   NY|     F|\n",
      "+----+-----+------+\n",
      "\n",
      "+----+-----+------+\n",
      "|name|state|gender|\n",
      "+----+-----+------+\n",
      "|Anna|   NY|     F|\n",
      "+----+-----+------+\n",
      "\n"
     ]
    }
   ],
   "source": [
    "\n",
    "from pyspark.sql.functions import isnull\n",
    "df.select(isnull(df.state)).show()\n",
    "\n",
    "# Using isNotNull()\n",
    "from pyspark.sql.functions import col\n",
    "df.filter(\"state IS NOT NULL\").show()\n",
    "df.filter(\"NOT state IS NULL\").show()\n",
    "df.filter(df.state.isNotNull()).show()\n",
    "df.filter(col(\"state\").isNotNull()).show()\n",
    "\n",
    "df.na.drop(subset=[\"state\"]).show()\n"
   ]
  },
  {
   "cell_type": "code",
   "execution_count": 48,
   "id": "e5ea6aef",
   "metadata": {},
   "outputs": [
    {
     "name": "stdout",
     "output_type": "stream",
     "text": [
      "+-----+-----+------+\n",
      "| name|state|gender|\n",
      "+-----+-----+------+\n",
      "|James| null|     M|\n",
      "|Julia| null|  null|\n",
      "+-----+-----+------+\n",
      "\n",
      "+-----+-----+------+\n",
      "| name|state|gender|\n",
      "+-----+-----+------+\n",
      "|Julia| null|  null|\n",
      "+-----+-----+------+\n",
      "\n",
      "+----+-----+------+\n",
      "|name|state|gender|\n",
      "+----+-----+------+\n",
      "|Anna|   NY|     F|\n",
      "+----+-----+------+\n",
      "\n"
     ]
    }
   ],
   "source": [
    "\n",
    "# Using pySpark SQL\n",
    "df.createOrReplaceTempView(\"DATA\")\n",
    "spark.sql(\"SELECT * FROM DATA where STATE IS NULL\").show()\n",
    "spark.sql(\"SELECT * FROM DATA where STATE IS NULL AND GENDER IS NULL\").show()\n",
    "spark.sql(\"SELECT * FROM DATA where STATE IS NOT NULL\").show()\n"
   ]
  },
  {
   "cell_type": "code",
   "execution_count": null,
   "id": "773d1c7a",
   "metadata": {},
   "outputs": [],
   "source": []
  }
 ],
 "metadata": {
  "kernelspec": {
   "display_name": "Python 3 (ipykernel)",
   "language": "python",
   "name": "python3"
  },
  "language_info": {
   "codemirror_mode": {
    "name": "ipython",
    "version": 3
   },
   "file_extension": ".py",
   "mimetype": "text/x-python",
   "name": "python",
   "nbconvert_exporter": "python",
   "pygments_lexer": "ipython3",
   "version": "3.10.9"
  }
 },
 "nbformat": 4,
 "nbformat_minor": 5
}
