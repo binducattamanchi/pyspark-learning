{
 "cells": [
  {
   "cell_type": "code",
   "execution_count": 25,
   "id": "1e85b1e3",
   "metadata": {},
   "outputs": [
    {
     "name": "stdout",
     "output_type": "stream",
     "text": [
      "+-----+-------+------+----------+-------+----+\n",
      "|empid|empname|salary|        dt|mang_id|dept|\n",
      "+-----+-------+------+----------+-------+----+\n",
      "|  101|   Ashi| 10000|01-01-2024|   null|  IT|\n",
      "|  102|   Balu|  9000|02-01-2024|    101|  IT|\n",
      "|  103| Chitra| 11000|02-01-2024|    101|  IT|\n",
      "|  104|  David|  4000|02-01-2024|    101|  IT|\n",
      "|  105| Geetha|  9000|03-01-2024|    104|  IT|\n",
      "|  106|  Sowji|  7000|03-01-2024|    104|  IT|\n",
      "|  107|    Raj| 10000|04-01-2024|    105|  IT|\n",
      "|  108|   Ravi| 10000|04-01-2024|    105|  IT|\n",
      "+-----+-------+------+----------+-------+----+\n",
      "\n",
      "root\n",
      " |-- empid: long (nullable = true)\n",
      " |-- empname: string (nullable = true)\n",
      " |-- salary: long (nullable = true)\n",
      " |-- dt: string (nullable = true)\n",
      " |-- mang_id: long (nullable = true)\n",
      " |-- dept: string (nullable = true)\n",
      "\n"
     ]
    }
   ],
   "source": [
    "import findspark\n",
    "findspark.init()\n",
    "\n",
    "from pyspark.sql import SparkSession\n",
    "\n",
    "spark = SparkSession.builder.appName('Manager Employee').getOrCreate()\n",
    "\n",
    "data=[(101,'Ashi',10000,'01-01-2024',None,'IT'),\n",
    "      (102,'Balu',9000,'02-01-2024',101,'IT'),\n",
    "      (103,'Chitra',11000,'02-01-2024',101,'IT'),\n",
    "      (104,'David',4000,'02-01-2024',101,'IT'),\n",
    "      (105,'Geetha',9000,'03-01-2024',104,'IT'),\n",
    "      (106,'Sowji',7000,'03-01-2024',104,'IT'),\n",
    "      (107,'Raj',10000,'04-01-2024',105,'IT'),\n",
    "      (108,'Ravi',10000,'04-01-2024',105,'IT')]\n",
    "columns=[\"empid\",\"empname\",\"salary\",\"dt\",\"mang_id\",\"dept\"]\n",
    "\n",
    "dataDf = spark.createDataFrame(data,columns)\n",
    "\n",
    "dataDf.show()\n",
    "dataDf.printSchema()"
   ]
  },
  {
   "cell_type": "code",
   "execution_count": 26,
   "id": "acc343d9",
   "metadata": {},
   "outputs": [
    {
     "name": "stdout",
     "output_type": "stream",
     "text": [
      "+-----------+-------+------+-----+----+\n",
      "|managername|empname|salary|month|dept|\n",
      "+-----------+-------+------+-----+----+\n",
      "|       null|   Ashi| 10000|  Jan|  IT|\n",
      "|       Ashi|   Balu|  9000|  Feb|  IT|\n",
      "|       Ashi| Chitra| 11000|  Feb|  IT|\n",
      "|       Ashi|  David|  4000|  Feb|  IT|\n",
      "|      David| Geetha|  9000|  Mar|  IT|\n",
      "|      David|  Sowji|  7000|  Mar|  IT|\n",
      "|     Geetha|    Raj| 10000|  Apr|  IT|\n",
      "|     Geetha|   Ravi| 10000|  Apr|  IT|\n",
      "+-----------+-------+------+-----+----+\n",
      "\n"
     ]
    }
   ],
   "source": [
    "#extract month from date\n",
    "from pyspark.sql.functions import unix_timestamp, from_unixtime,to_date,col,month,date_format\n",
    "\n",
    "df=dataDf.withColumn(\"month\",date_format(to_date(col(\"dt\"),\"MM-dd-yyyy\"),\"MMM\"))\n",
    "mgdf=df.alias('a').join(df.alias('b'),col('b.mang_id')==col('a.empid'),\"right\").select(\n",
    "col('a.empname').alias('managername'),col('b.empname'),col('b.salary'),col('b.month'),col('b.dept'))\n",
    "mgdf.show()\n",
    "\n",
    "\n"
   ]
  },
  {
   "cell_type": "code",
   "execution_count": 32,
   "id": "a25fe894",
   "metadata": {},
   "outputs": [
    {
     "name": "stdout",
     "output_type": "stream",
     "text": [
      "+-----------+-------+------+-----+----+----+\n",
      "|managername|empname|salary|month|dept|rank|\n",
      "+-----------+-------+------+-----+----+----+\n",
      "|       Ashi|   Balu|  9000|  Feb|  IT|   3|\n",
      "|      David| Geetha|  9000|  Mar|  IT|   3|\n",
      "+-----------+-------+------+-----+----+----+\n",
      "\n"
     ]
    }
   ],
   "source": [
    "# who is getting 3rd highest salary\n",
    "from pyspark.sql.window import Window\n",
    "from pyspark.sql.functions import dense_rank\n",
    "wdf=Window.partitionBy(\"dept\").orderBy(col(\"salary\").desc())\n",
    "\n",
    "mgdf.withColumn(\"rank\",dense_rank().over(wdf)).filter(col(\"rank\")==3).show()\n"
   ]
  },
  {
   "cell_type": "code",
   "execution_count": null,
   "id": "8d230825",
   "metadata": {},
   "outputs": [],
   "source": []
  }
 ],
 "metadata": {
  "kernelspec": {
   "display_name": "Python 3 (ipykernel)",
   "language": "python",
   "name": "python3"
  },
  "language_info": {
   "codemirror_mode": {
    "name": "ipython",
    "version": 3
   },
   "file_extension": ".py",
   "mimetype": "text/x-python",
   "name": "python",
   "nbconvert_exporter": "python",
   "pygments_lexer": "ipython3",
   "version": "3.10.9"
  }
 },
 "nbformat": 4,
 "nbformat_minor": 5
}
