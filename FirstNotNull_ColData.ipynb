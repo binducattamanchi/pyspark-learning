{
 "cells": [
  {
   "cell_type": "code",
   "execution_count": 8,
   "id": "9f24d1e6",
   "metadata": {},
   "outputs": [
    {
     "name": "stdout",
     "output_type": "stream",
     "text": [
      "+------+------+------+\n",
      "|State1|State2|State3|\n",
      "+------+------+------+\n",
      "|    TX|      |  null|\n",
      "|      |    CA|  null|\n",
      "|    FL|    NY|      |\n",
      "|  null|      |    MN|\n",
      "+------+------+------+\n",
      "\n",
      "root\n",
      " |-- State1: string (nullable = true)\n",
      " |-- State2: string (nullable = true)\n",
      " |-- State3: string (nullable = true)\n",
      "\n"
     ]
    }
   ],
   "source": [
    "import findspark\n",
    "findspark.init()\n",
    "\n",
    "from pyspark.sql import SparkSession\n",
    "\n",
    "spark = SparkSession.builder.appName('Ignoring Null').getOrCreate()\n",
    "\n",
    "data=[('TX','',None),('','CA',None),('FL','NY',''),(None,'','MN')]\n",
    "columns=[\"State1\",\"State2\",\"State3\"]\n",
    "\n",
    "dataDf = spark.createDataFrame(data,columns)\n",
    "\n",
    "dataDf.show()\n",
    "dataDf.printSchema()"
   ]
  },
  {
   "cell_type": "code",
   "execution_count": 9,
   "id": "b3e3f7b8",
   "metadata": {},
   "outputs": [
    {
     "name": "stdout",
     "output_type": "stream",
     "text": [
      "+------+------+------+------------+\n",
      "|State1|State2|State3|firstnotnull|\n",
      "+------+------+------+------------+\n",
      "|TX    |      |null  |TX          |\n",
      "|      |CA    |null  |CA          |\n",
      "|FL    |NY    |      |FL          |\n",
      "|null  |      |MN    |MN          |\n",
      "+------+------+------+------------+\n",
      "\n"
     ]
    }
   ],
   "source": [
    "from pyspark.sql.functions import coalesce,when,col\n",
    "\n",
    "df= dataDf.withColumn(\"firstnotnull\",coalesce(\n",
    "    when(col(\"State1\") == '',None).otherwise(col(\"State1\")),\n",
    "    when(col(\"State2\") == '',None).otherwise(col(\"State2\")),\n",
    "    when(col(\"State3\") == '',None).otherwise(col(\"State3\"))\n",
    "                                         ))\n",
    "df.show(truncate=False)\n"
   ]
  },
  {
   "cell_type": "code",
   "execution_count": null,
   "id": "ec8630ab",
   "metadata": {},
   "outputs": [],
   "source": []
  }
 ],
 "metadata": {
  "kernelspec": {
   "display_name": "Python 3 (ipykernel)",
   "language": "python",
   "name": "python3"
  },
  "language_info": {
   "codemirror_mode": {
    "name": "ipython",
    "version": 3
   },
   "file_extension": ".py",
   "mimetype": "text/x-python",
   "name": "python",
   "nbconvert_exporter": "python",
   "pygments_lexer": "ipython3",
   "version": "3.10.9"
  }
 },
 "nbformat": 4,
 "nbformat_minor": 5
}
