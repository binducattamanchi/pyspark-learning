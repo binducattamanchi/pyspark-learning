{
 "cells": [
  {
   "cell_type": "code",
   "execution_count": 7,
   "id": "5948007d",
   "metadata": {},
   "outputs": [
    {
     "name": "stdout",
     "output_type": "stream",
     "text": [
      "+---+-----+\n",
      "| id| name|\n",
      "+---+-----+\n",
      "|  1|a-b-c|\n",
      "|  1|  b-c|\n",
      "|  1|  c-d|\n",
      "|  2|  a-w|\n",
      "|  2|  b-s|\n",
      "|  2|  c-w|\n",
      "|  3|  a-a|\n",
      "|  3|  b-c|\n",
      "+---+-----+\n",
      "\n"
     ]
    }
   ],
   "source": [
    "import findspark\n",
    "findspark.init()\n",
    "\n",
    "from pyspark.sql import SparkSession\n",
    "\n",
    "spark=SparkSession.builder.appName(\"Convert Rows to one column\").getOrCreate()\n",
    "\n",
    "data=[(1,'a-b-c'),(1,'b-c'),(1,'c-d'),\n",
    "     (2,'a-w'),(2,'b-s'),(2,'c-w'),\n",
    "     (3,'a-a'),(3,'b-c')]\n",
    "schema=[\"id\",\"name\"]\n",
    "\n",
    "df=spark.createDataFrame(data,schema)\n",
    "df.show()"
   ]
  },
  {
   "cell_type": "code",
   "execution_count": 8,
   "id": "da32e9fc",
   "metadata": {},
   "outputs": [
    {
     "name": "stdout",
     "output_type": "stream",
     "text": [
      "+---+---+---+\n",
      "| id| c1| c2|\n",
      "+---+---+---+\n",
      "|  1|  a|  b|\n",
      "|  1|  b|  c|\n",
      "|  1|  c|  d|\n",
      "|  2|  a|  w|\n",
      "|  2|  b|  s|\n",
      "|  2|  c|  w|\n",
      "|  3|  a|  a|\n",
      "|  3|  b|  c|\n",
      "+---+---+---+\n",
      "\n"
     ]
    }
   ],
   "source": [
    "#using substring\n",
    "\n",
    "from pyspark.sql.functions import substring,split\n",
    "df.select(\"id\",substring(\"name\",1,1).alias(\"c1\"),substring(\"name\",3,1).alias(\"c2\")).show()"
   ]
  },
  {
   "cell_type": "code",
   "execution_count": 10,
   "id": "d2cfdf8c",
   "metadata": {},
   "outputs": [
    {
     "name": "stdout",
     "output_type": "stream",
     "text": [
      "+---+-----+---+---+----+\n",
      "| id| name| c1| c2|  c3|\n",
      "+---+-----+---+---+----+\n",
      "|  1|a-b-c|  a|  b|   c|\n",
      "|  1|  b-c|  b|  c|null|\n",
      "|  1|  c-d|  c|  d|null|\n",
      "|  2|  a-w|  a|  w|null|\n",
      "|  2|  b-s|  b|  s|null|\n",
      "|  2|  c-w|  c|  w|null|\n",
      "|  3|  a-a|  a|  a|null|\n",
      "|  3|  b-c|  b|  c|null|\n",
      "+---+-----+---+---+----+\n",
      "\n"
     ]
    }
   ],
   "source": [
    "#using split\n",
    "\n",
    "df.withColumn(\"c1\",split(\"name\",'-').getItem(0)).withColumn(\"c2\",split(\"name\",'-').getItem(1)).withColumn(\"c3\",split(\"name\",'-').getItem(2)).show()"
   ]
  },
  {
   "cell_type": "code",
   "execution_count": null,
   "id": "9ca9b36c",
   "metadata": {},
   "outputs": [],
   "source": []
  }
 ],
 "metadata": {
  "kernelspec": {
   "display_name": "Python 3 (ipykernel)",
   "language": "python",
   "name": "python3"
  },
  "language_info": {
   "codemirror_mode": {
    "name": "ipython",
    "version": 3
   },
   "file_extension": ".py",
   "mimetype": "text/x-python",
   "name": "python",
   "nbconvert_exporter": "python",
   "pygments_lexer": "ipython3",
   "version": "3.10.9"
  }
 },
 "nbformat": 4,
 "nbformat_minor": 5
}
