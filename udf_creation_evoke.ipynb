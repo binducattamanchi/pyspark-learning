{
 "cells": [
  {
   "cell_type": "code",
   "execution_count": 1,
   "id": "b1231f35",
   "metadata": {},
   "outputs": [
    {
     "name": "stdout",
     "output_type": "stream",
     "text": [
      "+---+-----+--------+\n",
      "| id|price|discount|\n",
      "+---+-----+--------+\n",
      "|  1|  100|      10|\n",
      "|  1|  200|      15|\n",
      "|  1|   40|      10|\n",
      "+---+-----+--------+\n",
      "\n"
     ]
    },
    {
     "ename": "AttributeError",
     "evalue": "'DataFrame' object has no attribute 'transfrom'",
     "output_type": "error",
     "traceback": [
      "\u001b[1;31m---------------------------------------------------------------------------\u001b[0m",
      "\u001b[1;31mAttributeError\u001b[0m                            Traceback (most recent call last)",
      "Cell \u001b[1;32mIn[1], line 20\u001b[0m\n\u001b[0;32m     16\u001b[0m     \u001b[38;5;28;01mreturn\u001b[39;00m df\u001b[38;5;241m.\u001b[39mwithColumn(\u001b[38;5;124m\"\u001b[39m\u001b[38;5;124mdiscounted_price\u001b[39m\u001b[38;5;124m\"\u001b[39m, \\\n\u001b[0;32m     17\u001b[0m                           df\u001b[38;5;241m.\u001b[39mprice \u001b[38;5;241m-\u001b[39m (df\u001b[38;5;241m.\u001b[39mprice \u001b[38;5;241m*\u001b[39m df\u001b[38;5;241m.\u001b[39mdiscount) \u001b[38;5;241m/\u001b[39m \u001b[38;5;241m100\u001b[39m) \n\u001b[0;32m     19\u001b[0m \u001b[38;5;66;03m# Evoke the transformation\u001b[39;00m\n\u001b[1;32m---> 20\u001b[0m df_discounted \u001b[38;5;241m=\u001b[39m \u001b[43mdf\u001b[49m\u001b[38;5;241;43m.\u001b[39;49m\u001b[43mtransfrom\u001b[49m(get_discounted_price)\n\u001b[0;32m     22\u001b[0m df_discounted\u001b[38;5;241m.\u001b[39mshow()\n",
      "File \u001b[1;32m~\\spark\\python\\pyspark\\sql\\dataframe.py:1988\u001b[0m, in \u001b[0;36mDataFrame.__getattr__\u001b[1;34m(self, name)\u001b[0m\n\u001b[0;32m   1978\u001b[0m \u001b[38;5;124;03m\"\"\"Returns the :class:`Column` denoted by ``name``.\u001b[39;00m\n\u001b[0;32m   1979\u001b[0m \n\u001b[0;32m   1980\u001b[0m \u001b[38;5;124;03m.. versionadded:: 1.3.0\u001b[39;00m\n\u001b[1;32m   (...)\u001b[0m\n\u001b[0;32m   1985\u001b[0m \u001b[38;5;124;03m[Row(age=2), Row(age=5)]\u001b[39;00m\n\u001b[0;32m   1986\u001b[0m \u001b[38;5;124;03m\"\"\"\u001b[39;00m\n\u001b[0;32m   1987\u001b[0m \u001b[38;5;28;01mif\u001b[39;00m name \u001b[38;5;129;01mnot\u001b[39;00m \u001b[38;5;129;01min\u001b[39;00m \u001b[38;5;28mself\u001b[39m\u001b[38;5;241m.\u001b[39mcolumns:\n\u001b[1;32m-> 1988\u001b[0m     \u001b[38;5;28;01mraise\u001b[39;00m \u001b[38;5;167;01mAttributeError\u001b[39;00m(\n\u001b[0;32m   1989\u001b[0m         \u001b[38;5;124m\"\u001b[39m\u001b[38;5;124m'\u001b[39m\u001b[38;5;132;01m%s\u001b[39;00m\u001b[38;5;124m'\u001b[39m\u001b[38;5;124m object has no attribute \u001b[39m\u001b[38;5;124m'\u001b[39m\u001b[38;5;132;01m%s\u001b[39;00m\u001b[38;5;124m'\u001b[39m\u001b[38;5;124m\"\u001b[39m \u001b[38;5;241m%\u001b[39m (\u001b[38;5;28mself\u001b[39m\u001b[38;5;241m.\u001b[39m\u001b[38;5;18m__class__\u001b[39m\u001b[38;5;241m.\u001b[39m\u001b[38;5;18m__name__\u001b[39m, name)\n\u001b[0;32m   1990\u001b[0m     )\n\u001b[0;32m   1991\u001b[0m jc \u001b[38;5;241m=\u001b[39m \u001b[38;5;28mself\u001b[39m\u001b[38;5;241m.\u001b[39m_jdf\u001b[38;5;241m.\u001b[39mapply(name)\n\u001b[0;32m   1992\u001b[0m \u001b[38;5;28;01mreturn\u001b[39;00m Column(jc)\n",
      "\u001b[1;31mAttributeError\u001b[0m: 'DataFrame' object has no attribute 'transfrom'"
     ]
    }
   ],
   "source": [
    "import findspark\n",
    "findspark.init()\n",
    "\n",
    "from pyspark.sql import SparkSession\n",
    "\n",
    "spark=SparkSession.builder.appName(\"Convert Rows to one column\").getOrCreate()\n",
    "\n",
    "data=[(1,100,10),(1,200,15),(1,40,10)]\n",
    "schema=[\"id\",\"price\",\"discount\"]\n",
    "\n",
    "df=spark.createDataFrame(data,schema)\n",
    "df.show()\n",
    "\n",
    "# Define a python function that operates on pySpark DataFrames\n",
    "def get_discounted_price(df):\n",
    "    return df.withColumn(\"discounted_price\", \\\n",
    "                          df.price - (df.price * df.discount) / 100) \n"
   ]
  },
  {
   "cell_type": "code",
   "execution_count": 2,
   "id": "cb08ae4d",
   "metadata": {},
   "outputs": [
    {
     "name": "stdout",
     "output_type": "stream",
     "text": [
      "+---+-----+--------+----------------+\n",
      "| id|price|discount|discounted_price|\n",
      "+---+-----+--------+----------------+\n",
      "|  1|  100|      10|            90.0|\n",
      "|  1|  200|      15|           170.0|\n",
      "|  1|   40|      10|            36.0|\n",
      "+---+-----+--------+----------------+\n",
      "\n"
     ]
    }
   ],
   "source": [
    "\n",
    "# Evoke the transformation\n",
    "df_discounted = df.transform(get_discounted_price)\n",
    "\n",
    "df_discounted.show()"
   ]
  },
  {
   "cell_type": "code",
   "execution_count": 5,
   "id": "80707a52",
   "metadata": {},
   "outputs": [
    {
     "name": "stdout",
     "output_type": "stream",
     "text": [
      "== Physical Plan ==\n",
      "*(1) Project [id#0L, price#1L, discount#2L, (cast(price#1L as double) - (cast((price#1L * discount#2L) as double) / 100.0)) AS discounted_price#19]\n",
      "+- *(1) Scan ExistingRDD[id#0L,price#1L,discount#2L]\n",
      "\n",
      "\n"
     ]
    }
   ],
   "source": [
    "df_discounted.explain()"
   ]
  },
  {
   "cell_type": "code",
   "execution_count": null,
   "id": "d229296e",
   "metadata": {},
   "outputs": [],
   "source": []
  }
 ],
 "metadata": {
  "kernelspec": {
   "display_name": "Python 3 (ipykernel)",
   "language": "python",
   "name": "python3"
  },
  "language_info": {
   "codemirror_mode": {
    "name": "ipython",
    "version": 3
   },
   "file_extension": ".py",
   "mimetype": "text/x-python",
   "name": "python",
   "nbconvert_exporter": "python",
   "pygments_lexer": "ipython3",
   "version": "3.10.9"
  }
 },
 "nbformat": 4,
 "nbformat_minor": 5
}
