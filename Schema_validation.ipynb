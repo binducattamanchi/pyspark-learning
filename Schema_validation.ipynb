{
 "cells": [
  {
   "cell_type": "code",
   "execution_count": 15,
   "id": "b7221b53",
   "metadata": {},
   "outputs": [
    {
     "name": "stdout",
     "output_type": "stream",
     "text": [
      "Expected Columns: {'id', 'age', 'salary', 'name'}\n",
      "Actual Columns: {'department', 'salary', 'name', 'id', 'age'}\n",
      "Missing Columns: set()\n",
      "Extra Columns: {'department'}\n",
      "Mismatched Data Types: []\n"
     ]
    }
   ],
   "source": [
    "import findspark\n",
    "findspark.init()\n",
    "\n",
    "import pyspark\n",
    "from pyspark.sql import SparkSession\n",
    "from pyspark.sql.types import StructType, StructField, StringType, IntegerType, DoubleType\n",
    "\n",
    "# Initialize Spark session\n",
    "spark = SparkSession.builder.appName(\"ColumnValidation\").getOrCreate()\n",
    "\n",
    "# Load the DataFrame from the input file\n",
    "df = spark.read.csv(\"input_file.txt\", header=True, inferSchema=True)\n",
    "\n",
    "# Define the expected schema\n",
    "expected_schema = StructType([\n",
    "    StructField(\"id\", IntegerType(), True),\n",
    "    StructField(\"name\", StringType(), True),\n",
    "    StructField(\"age\", IntegerType(), True),\n",
    "    StructField(\"salary\", DoubleType(), True)\n",
    "])\n",
    "\n",
    "# Extract expected columns from the schema\n",
    "expected_columns = set([field.name for field in expected_schema.fields])\n",
    "\n",
    "# Extract actual columns from the DataFrame\n",
    "actual_columns = set(df.columns)\n",
    "\n",
    "# Validate columns\n",
    "missing_columns = expected_columns - actual_columns\n",
    "extra_columns = actual_columns - expected_columns\n",
    "\n",
    "# Print validation results\n",
    "print(\"Expected Columns:\", expected_columns)\n",
    "print(\"Actual Columns:\", actual_columns)\n",
    "print(\"Missing Columns:\", missing_columns)\n",
    "print(\"Extra Columns:\", extra_columns)\n",
    "\n",
    "# Check for data type mismatches\n",
    "mismatched_types = []\n",
    "for field in expected_schema.fields:\n",
    "    if field.name in df.columns:\n",
    "        actual_data_type = df.schema[field.name].dataType\n",
    "        if actual_data_type != field.dataType:\n",
    "            mismatched_types.append((field.name, actual_data_type, field.dataType))\n",
    "\n",
    "print(\"Mismatched Data Types:\", mismatched_types)\n"
   ]
  },
  {
   "cell_type": "code",
   "execution_count": null,
   "id": "5c06db40",
   "metadata": {},
   "outputs": [],
   "source": []
  },
  {
   "cell_type": "code",
   "execution_count": null,
   "id": "50d27a8d",
   "metadata": {},
   "outputs": [],
   "source": []
  }
 ],
 "metadata": {
  "kernelspec": {
   "display_name": "Python 3 (ipykernel)",
   "language": "python",
   "name": "python3"
  },
  "language_info": {
   "codemirror_mode": {
    "name": "ipython",
    "version": 3
   },
   "file_extension": ".py",
   "mimetype": "text/x-python",
   "name": "python",
   "nbconvert_exporter": "python",
   "pygments_lexer": "ipython3",
   "version": "3.10.9"
  }
 },
 "nbformat": 4,
 "nbformat_minor": 5
}
