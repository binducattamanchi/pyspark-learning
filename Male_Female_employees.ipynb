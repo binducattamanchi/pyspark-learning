{
 "cells": [
  {
   "cell_type": "code",
   "execution_count": 2,
   "id": "c989db70",
   "metadata": {},
   "outputs": [
    {
     "name": "stdout",
     "output_type": "stream",
     "text": [
      "+-----+------+\n",
      "| dept|gender|\n",
      "+-----+------+\n",
      "|   IT|     M|\n",
      "|   IT|     M|\n",
      "|   IT|     M|\n",
      "|   IT|     F|\n",
      "|   HR|     M|\n",
      "|   HR|     F|\n",
      "|   HR|     F|\n",
      "|Sales|     M|\n",
      "|Sales|     M|\n",
      "|Sales|     M|\n",
      "+-----+------+\n",
      "\n"
     ]
    }
   ],
   "source": [
    "import findspark\n",
    "findspark.init()\n",
    "\n",
    "from pyspark.sql import SparkSession\n",
    "\n",
    "spark=SparkSession.builder.appName(\"Male Female Employee\").getOrCreate()\n",
    "\n",
    "data=[('IT','M'),('IT','M'),('IT','M'),('IT','F'),\n",
    "     ('HR','M'),('HR','F'),('HR','F'),\n",
    "     ('Sales','M'),('Sales','M'),('Sales','M')]\n",
    "schema=[\"dept\",\"gender\"]\n",
    "\n",
    "df=spark.createDataFrame(data,schema)\n",
    "df.show()"
   ]
  },
  {
   "cell_type": "code",
   "execution_count": 26,
   "id": "aaf84d3a",
   "metadata": {},
   "outputs": [],
   "source": [
    "# identify total employees at dept level, male employee count,female employee count\n",
    "\n",
    "from pyspark.sql.window import Window\n",
    "from pyspark.sql.functions import *\n",
    "\n",
    "df1=df.select(\"dept\",when(df.gender=='M',1).otherwise(None).alias(\"male\")\n",
    "              ,when(df.gender=='F',1).otherwise(None).alias(\"female\"))\n"
   ]
  },
  {
   "cell_type": "code",
   "execution_count": 27,
   "id": "7b907985",
   "metadata": {},
   "outputs": [
    {
     "name": "stdout",
     "output_type": "stream",
     "text": [
      "+-----+-----+--------+----------+\n",
      "| dept|total|male_cnt|female_cnt|\n",
      "+-----+-----+--------+----------+\n",
      "|   IT|    4|       3|         1|\n",
      "|   HR|    3|       1|         2|\n",
      "|Sales|    3|       3|      null|\n",
      "+-----+-----+--------+----------+\n",
      "\n"
     ]
    }
   ],
   "source": [
    "df1.groupBy(\"dept\").agg(count(df1.dept).alias(\"total\")\n",
    "                        ,sum(df1.male).alias(\"male_cnt\")\n",
    "                        ,sum(df1.female).alias(\"female_cnt\")).show()"
   ]
  },
  {
   "cell_type": "code",
   "execution_count": null,
   "id": "858cebb0",
   "metadata": {},
   "outputs": [],
   "source": []
  }
 ],
 "metadata": {
  "kernelspec": {
   "display_name": "Python 3 (ipykernel)",
   "language": "python",
   "name": "python3"
  },
  "language_info": {
   "codemirror_mode": {
    "name": "ipython",
    "version": 3
   },
   "file_extension": ".py",
   "mimetype": "text/x-python",
   "name": "python",
   "nbconvert_exporter": "python",
   "pygments_lexer": "ipython3",
   "version": "3.10.9"
  }
 },
 "nbformat": 4,
 "nbformat_minor": 5
}
