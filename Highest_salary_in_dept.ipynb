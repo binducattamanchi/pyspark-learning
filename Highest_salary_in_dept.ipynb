{
 "cells": [
  {
   "cell_type": "code",
   "execution_count": 9,
   "id": "883a3c54",
   "metadata": {},
   "outputs": [
    {
     "name": "stdout",
     "output_type": "stream",
     "text": [
      "+---+------+------+-----+\n",
      "| id|  name|salary| dept|\n",
      "+---+------+------+-----+\n",
      "|101|  Ashi| 10000|   IT|\n",
      "|102|  Balu|  9000|   IT|\n",
      "|103|Chitra| 11000|   IT|\n",
      "|104| David|  4000|   HR|\n",
      "|105|Geetha|  9000|   HR|\n",
      "|106| Sowji|  7000|Sales|\n",
      "|107|   Raj| 10000|Sales|\n",
      "|108|  Ravi| 10000|Sales|\n",
      "+---+------+------+-----+\n",
      "\n",
      "root\n",
      " |-- id: long (nullable = true)\n",
      " |-- name: string (nullable = true)\n",
      " |-- salary: long (nullable = true)\n",
      " |-- dept: string (nullable = true)\n",
      "\n"
     ]
    }
   ],
   "source": [
    "import findspark\n",
    "findspark.init()\n",
    "\n",
    "from pyspark.sql import SparkSession\n",
    "\n",
    "spark = SparkSession.builder.appName('Highest Salary').getOrCreate()\n",
    "\n",
    "data=[(101,'Ashi',10000,'IT'),\n",
    "      (102,'Balu',9000,'IT'),\n",
    "      (103,'Chitra',11000,'IT'),\n",
    "      (104,'David',4000,'HR'),\n",
    "      (105,'Geetha',9000,'HR'),\n",
    "      (106,'Sowji',7000,'Sales'),\n",
    "      (107,'Raj',10000,'Sales'),\n",
    "      (108,'Ravi',10000,'Sales')]\n",
    "columns=[\"id\",\"name\",\"salary\",\"dept\"]\n",
    "\n",
    "dataDf = spark.createDataFrame(data,columns)\n",
    "\n",
    "dataDf.show()\n",
    "dataDf.printSchema()"
   ]
  },
  {
   "cell_type": "code",
   "execution_count": 13,
   "id": "79846cfe",
   "metadata": {},
   "outputs": [
    {
     "name": "stdout",
     "output_type": "stream",
     "text": [
      "+---+------+------+-----+-------+\n",
      "| id|  name|salary| dept|ranking|\n",
      "+---+------+------+-----+-------+\n",
      "|105|Geetha|  9000|   HR|      1|\n",
      "|103|Chitra| 11000|   IT|      1|\n",
      "|107|   Raj| 10000|Sales|      1|\n",
      "|108|  Ravi| 10000|Sales|      1|\n",
      "+---+------+------+-----+-------+\n",
      "\n"
     ]
    }
   ],
   "source": [
    "from pyspark.sql.window import Window\n",
    "from pyspark.sql.functions import max,row_number,col,rank\n",
    "\n",
    "wdf=Window.partitionBy('dept').orderBy(col('salary').desc())\n",
    "\n",
    "\n",
    "dataDf.withColumn(\"ranking\",rank().over(wdf)).filter(col(\"ranking\")==1).show()"
   ]
  },
  {
   "cell_type": "code",
   "execution_count": null,
   "id": "cc761a25",
   "metadata": {},
   "outputs": [],
   "source": []
  }
 ],
 "metadata": {
  "kernelspec": {
   "display_name": "Python 3 (ipykernel)",
   "language": "python",
   "name": "python3"
  },
  "language_info": {
   "codemirror_mode": {
    "name": "ipython",
    "version": 3
   },
   "file_extension": ".py",
   "mimetype": "text/x-python",
   "name": "python",
   "nbconvert_exporter": "python",
   "pygments_lexer": "ipython3",
   "version": "3.10.9"
  }
 },
 "nbformat": 4,
 "nbformat_minor": 5
}
