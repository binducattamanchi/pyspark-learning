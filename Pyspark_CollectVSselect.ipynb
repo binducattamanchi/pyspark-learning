{
 "cells": [
  {
   "cell_type": "code",
   "execution_count": 1,
   "id": "3b660772",
   "metadata": {},
   "outputs": [
    {
     "name": "stdout",
     "output_type": "stream",
     "text": [
      "+---------+-------+\n",
      "|dept_name|dept_id|\n",
      "+---------+-------+\n",
      "|Finance  |10     |\n",
      "|Marketing|20     |\n",
      "|Sales    |30     |\n",
      "|IT       |40     |\n",
      "+---------+-------+\n",
      "\n"
     ]
    }
   ],
   "source": [
    "import findspark\n",
    "findspark.init()\n",
    "import pyspark\n",
    "from pyspark.sql import SparkSession\n",
    "spark = SparkSession.builder.appName('Collect vs Select').getOrCreate()\n",
    "dept = [(\"Finance\", 10),\n",
    "(\"Marketing\", 20),\n",
    "(\"Sales\", 30),\n",
    "(\"IT\", 40)\n",
    "]\n",
    "deptColumns = [\"dept_name\", \"dept_id\"]\n",
    "deptDF = spark.createDataFrame(data = dept, schema = deptColumns)\n",
    "deptDF.show(truncate = False)\n"
   ]
  },
  {
   "cell_type": "code",
   "execution_count": 2,
   "id": "4cbb2c4c",
   "metadata": {},
   "outputs": [
    {
     "name": "stdout",
     "output_type": "stream",
     "text": [
      "[Row(dept_name='Finance', dept_id=10), Row(dept_name='Marketing', dept_id=20), Row(dept_name='Sales', dept_id=30), Row(dept_name='IT', dept_id=40)]\n",
      "Finance,10\n",
      "Marketing,20\n",
      "Sales,30\n",
      "IT,40\n"
     ]
    }
   ],
   "source": [
    "dataCollect = deptDF.collect()\n",
    "print(dataCollect)\n",
    "for row in dataCollect:\n",
    "    print(row['dept_name'] + \",\" + str(row['dept_id']))"
   ]
  },
  {
   "cell_type": "code",
   "execution_count": 8,
   "id": "124cf2e4",
   "metadata": {},
   "outputs": [
    {
     "name": "stdout",
     "output_type": "stream",
     "text": [
      "Finance\n",
      "[Row(dept_name='Finance'), Row(dept_name='Marketing'), Row(dept_name='Sales'), Row(dept_name='IT')]\n"
     ]
    }
   ],
   "source": [
    "#select() is a transformation that returns a new DataFrame and holds the columns that are selected whereas \n",
    "#collect() is an action that returns the entire data set in an Array to the driver.\n",
    "\n",
    "print(deptDF.collect()[0][0])\n",
    "\n",
    "dataCollect = deptDF.select(\"dept_name\").collect()\n",
    "print(dataCollect)"
   ]
  },
  {
   "cell_type": "code",
   "execution_count": null,
   "id": "224c50a1",
   "metadata": {},
   "outputs": [],
   "source": []
  }
 ],
 "metadata": {
  "kernelspec": {
   "display_name": "Python 3 (ipykernel)",
   "language": "python",
   "name": "python3"
  },
  "language_info": {
   "codemirror_mode": {
    "name": "ipython",
    "version": 3
   },
   "file_extension": ".py",
   "mimetype": "text/x-python",
   "name": "python",
   "nbconvert_exporter": "python",
   "pygments_lexer": "ipython3",
   "version": "3.10.9"
  }
 },
 "nbformat": 4,
 "nbformat_minor": 5
}
