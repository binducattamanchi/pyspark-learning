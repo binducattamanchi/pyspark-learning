{
 "cells": [
  {
   "cell_type": "code",
   "execution_count": 4,
   "id": "76aea9d5",
   "metadata": {},
   "outputs": [
    {
     "name": "stdout",
     "output_type": "stream",
     "text": [
      "root\n",
      " |-- words: string (nullable = true)\n",
      "\n"
     ]
    }
   ],
   "source": [
    "import findspark\n",
    "\n",
    "findspark.init()\n",
    "\n",
    "from pyspark.sql import SparkSession\n",
    "\n",
    "spark=SparkSession.builder.appName(\"word_count\").getOrCreate()\n",
    "\n",
    "df=spark.read.csv(\"word_counts.txt\",header=True)\n",
    "df.printSchema()"
   ]
  },
  {
   "cell_type": "code",
   "execution_count": 13,
   "id": "1c6d0d34",
   "metadata": {},
   "outputs": [
    {
     "name": "stdout",
     "output_type": "stream",
     "text": [
      "+--------+-----+\n",
      "|   words|count|\n",
      "+--------+-----+\n",
      "|   along|    2|\n",
      "|   count|    3|\n",
      "|    done|    1|\n",
      "|      is|    1|\n",
      "| pyspark|    1|\n",
      "|repeated|    1|\n",
      "|   spark|    1|\n",
      "|     the|    3|\n",
      "|   total|    1|\n",
      "|    udf.|    1|\n",
      "|   using|    1|\n",
      "|    with|    2|\n",
      "|   words|    3|\n",
      "+--------+-----+\n",
      "\n"
     ]
    }
   ],
   "source": [
    "from pyspark.sql.functions import explode,split,col\n",
    "\n",
    "df.select(explode(split(col(\"words\"),\" \")).alias(\"words\")).groupBy(col(\"words\")).count().sort(col(\"words\")).show()"
   ]
  },
  {
   "cell_type": "code",
   "execution_count": null,
   "id": "34b607ab",
   "metadata": {},
   "outputs": [],
   "source": []
  }
 ],
 "metadata": {
  "kernelspec": {
   "display_name": "Python 3 (ipykernel)",
   "language": "python",
   "name": "python3"
  },
  "language_info": {
   "codemirror_mode": {
    "name": "ipython",
    "version": 3
   },
   "file_extension": ".py",
   "mimetype": "text/x-python",
   "name": "python",
   "nbconvert_exporter": "python",
   "pygments_lexer": "ipython3",
   "version": "3.10.9"
  }
 },
 "nbformat": 4,
 "nbformat_minor": 5
}
