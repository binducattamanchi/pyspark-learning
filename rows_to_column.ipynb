{
 "cells": [
  {
   "cell_type": "code",
   "execution_count": 1,
   "id": "6d6bd2d6",
   "metadata": {},
   "outputs": [
    {
     "name": "stdout",
     "output_type": "stream",
     "text": [
      "+---+----+\n",
      "| id|name|\n",
      "+---+----+\n",
      "|  1|   a|\n",
      "|  1|   b|\n",
      "|  1|   c|\n",
      "|  2|  aw|\n",
      "|  2|  bs|\n",
      "|  2|  cw|\n",
      "|  3|  aa|\n",
      "|  3|  bc|\n",
      "+---+----+\n",
      "\n"
     ]
    }
   ],
   "source": [
    "import findspark\n",
    "findspark.init()\n",
    "\n",
    "from pyspark.sql import SparkSession\n",
    "\n",
    "spark=SparkSession.builder.appName(\"Convert Rows to one column\").getOrCreate()\n",
    "\n",
    "data=[(1,'a'),(1,'b'),(1,'c'),\n",
    "     (2,'aw'),(2,'bs'),(2,'cw'),\n",
    "     (3,'aa'),(3,'bc')]\n",
    "schema=[\"id\",\"name\"]\n",
    "\n",
    "df=spark.createDataFrame(data,schema)\n",
    "df.show()"
   ]
  },
  {
   "cell_type": "code",
   "execution_count": 7,
   "id": "b2b62afc",
   "metadata": {},
   "outputs": [
    {
     "name": "stdout",
     "output_type": "stream",
     "text": [
      "+---+------------+\n",
      "| id|        name|\n",
      "+---+------------+\n",
      "|  1|   [a, b, c]|\n",
      "|  2|[aw, bs, cw]|\n",
      "|  3|    [aa, bc]|\n",
      "+---+------------+\n",
      "\n"
     ]
    }
   ],
   "source": [
    "#combine name field into one row\n",
    "\n",
    "from pyspark.sql.functions import collect_list\n",
    "dfc=df.groupby(\"id\").agg(collect_list(\"name\").alias(\"name\"))\n",
    "dfc.show()"
   ]
  },
  {
   "cell_type": "code",
   "execution_count": 9,
   "id": "82140f91",
   "metadata": {},
   "outputs": [
    {
     "name": "stdout",
     "output_type": "stream",
     "text": [
      "+---+--------+\n",
      "| id|   names|\n",
      "+---+--------+\n",
      "|  1|   a,b,c|\n",
      "|  2|aw,bs,cw|\n",
      "|  3|   aa,bc|\n",
      "+---+--------+\n",
      "\n"
     ]
    }
   ],
   "source": [
    "#convert list type of name field into string\n",
    "\n",
    "from pyspark.sql.functions import concat_ws\n",
    "\n",
    "dfc.select(\"id\",concat_ws(',',\"name\").alias(\"names\")).show()"
   ]
  },
  {
   "cell_type": "code",
   "execution_count": null,
   "id": "c9ea3f83",
   "metadata": {},
   "outputs": [],
   "source": []
  }
 ],
 "metadata": {
  "kernelspec": {
   "display_name": "Python 3 (ipykernel)",
   "language": "python",
   "name": "python3"
  },
  "language_info": {
   "codemirror_mode": {
    "name": "ipython",
    "version": 3
   },
   "file_extension": ".py",
   "mimetype": "text/x-python",
   "name": "python",
   "nbconvert_exporter": "python",
   "pygments_lexer": "ipython3",
   "version": "3.10.9"
  }
 },
 "nbformat": 4,
 "nbformat_minor": 5
}
