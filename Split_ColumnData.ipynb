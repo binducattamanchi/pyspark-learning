{
 "cells": [
  {
   "cell_type": "markdown",
   "id": "26646b51",
   "metadata": {},
   "source": [
    "# Input\n",
    "\n",
    "Name  | Hobbies\n",
    "------------------\n",
    "Anitha | Tennis,Carroms\n",
    "Raj  | Cricket,Tennis\n",
    "Singh | Pickleball,Tennis\n",
    "Pragna | Chess, Cricket\n",
    "Ravi | Cricket\n",
    "Somu  | Cricket, Chess, Carroms\n",
    "\n",
    "\n",
    "# Output \n",
    "\n",
    "Name  | Hobbies\n",
    "------------------\n",
    "Anitha | Tennis\n",
    "Anitha | Carroms\n",
    "Raj    | Cricket\n",
    "Raj    | Tennis\n",
    "Singh  | Pickleball\n",
    "Singh  | Tennis\n",
    "Pragna | Chess\n",
    "Pragna | Cricket\n",
    "Ravi | Cricket\n",
    "Somu | Cricket\n",
    "Somu | Chess\n",
    "Somu | Carroms\n"
   ]
  },
  {
   "cell_type": "code",
   "execution_count": 18,
   "id": "7ac17c80",
   "metadata": {},
   "outputs": [
    {
     "name": "stdout",
     "output_type": "stream",
     "text": [
      "+------+---------------------+\n",
      "|Name  |Hobbies              |\n",
      "+------+---------------------+\n",
      "|Anitha|Tennis,Carroms       |\n",
      "|Raj   |Cricket,Tennis       |\n",
      "|Singh |Pickleball,Tennis    |\n",
      "|Pragna|Chess,Cricket        |\n",
      "|Ravi  |Cricket              |\n",
      "|Somu  |Cricket,Chess,Carroms|\n",
      "+------+---------------------+\n",
      "\n"
     ]
    }
   ],
   "source": [
    "import findspark\n",
    "findspark.init()\n",
    "\n",
    "from pyspark.sql import SparkSession\n",
    "\n",
    "\n",
    "spark = SparkSession.builder.appName('Split_Transform').getOrCreate()\n",
    "\n",
    "\n",
    "dataDf = spark.createDataFrame(data=[(\"Anitha\",\"Tennis,Carroms\"),(\"Raj\",\"Cricket,Tennis\"),(\"Singh\",\"Pickleball,Tennis\"),\n",
    "                                     (\"Pragna\",\"Chess,Cricket\"),(\"Ravi\",\"Cricket\"),(\"Somu\",\"Cricket,Chess,Carroms\")],\n",
    "                               schema=[\"Name\",\"Hobbies\"])\n",
    "\n",
    "dataDf.show(truncate=False)"
   ]
  },
  {
   "cell_type": "code",
   "execution_count": 19,
   "id": "6a614c93",
   "metadata": {},
   "outputs": [
    {
     "name": "stdout",
     "output_type": "stream",
     "text": [
      "+------+----------+\n",
      "|Name  |Hobbies   |\n",
      "+------+----------+\n",
      "|Anitha|Tennis    |\n",
      "|Anitha|Carroms   |\n",
      "|Raj   |Cricket   |\n",
      "|Raj   |Tennis    |\n",
      "|Singh |Pickleball|\n",
      "|Singh |Tennis    |\n",
      "|Pragna|Chess     |\n",
      "|Pragna|Cricket   |\n",
      "|Ravi  |Cricket   |\n",
      "|Somu  |Cricket   |\n",
      "|Somu  |Chess     |\n",
      "|Somu  |Carroms   |\n",
      "+------+----------+\n",
      "\n"
     ]
    },
    {
     "data": {
      "text/plain": [
       "<bound method DataFrame.printSchema of DataFrame[Name: string, Hobbies: string]>"
      ]
     },
     "execution_count": 19,
     "metadata": {},
     "output_type": "execute_result"
    }
   ],
   "source": [
    "from pyspark.sql.functions import split,explode,trim\n",
    "\n",
    "splitDf=dataDf.select(\"Name\",explode(split(\"Hobbies\",\",\")).alias(\"Hobbies\"))\n",
    "splitDf.show(truncate=False)\n",
    "splitDf.printSchema\n"
   ]
  }
 ],
 "metadata": {
  "kernelspec": {
   "display_name": "Python 3 (ipykernel)",
   "language": "python",
   "name": "python3"
  },
  "language_info": {
   "codemirror_mode": {
    "name": "ipython",
    "version": 3
   },
   "file_extension": ".py",
   "mimetype": "text/x-python",
   "name": "python",
   "nbconvert_exporter": "python",
   "pygments_lexer": "ipython3",
   "version": "3.10.9"
  }
 },
 "nbformat": 4,
 "nbformat_minor": 5
}
